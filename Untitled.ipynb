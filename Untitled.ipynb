{
 "cells": [
  {
   "cell_type": "code",
   "execution_count": 7,
   "id": "38bbc3ae-bbf1-418a-a8cd-0ab20e7c4f8e",
   "metadata": {},
   "outputs": [],
   "source": [
    "# importing tools\n",
    "\n",
    "import pandas as pd\n",
    "import numpy as np\n",
    "import mysql.connector\n",
    "from mysql.connector import Error\n",
    "import matplotlib.pyplot as plt"
   ]
  },
  {
   "cell_type": "code",
   "execution_count": 13,
   "id": "f3f74447-5134-4323-ab3f-e697409c286c",
   "metadata": {},
   "outputs": [],
   "source": [
    "def prepare_dataframes(data_csv):\n",
    "    return pd.read_csv(data_csv)"
   ]
  },
  {
   "cell_type": "code",
   "execution_count": 64,
   "id": "6f5197e0-604d-4fb0-9fd6-695f48ec3cf7",
   "metadata": {},
   "outputs": [],
   "source": [
    "def check_data_quality(df):\n",
    "    print(\"\\nData quality checks:\")\n",
    "    print(\"NaN values:\\n\", df.isnull().sum())\n",
    "    print(\"Duplicate rows:\", df.duplicated().sum())"
   ]
  },
  {
   "cell_type": "code",
   "execution_count": 69,
   "id": "d046f5df-8bd5-4ee1-99c0-ff04332e917e",
   "metadata": {},
   "outputs": [],
   "source": [
    "def convert_to_date_objects(df, date_name):\n",
    "    df['year'] = df[date_name].dt.year\n",
    "    df['month'] = df[date_name].dt.month\n",
    "    df['day'] = df[date_name].dt.day"
   ]
  },
  {
   "cell_type": "code",
   "execution_count": 75,
   "id": "acae4886-44d7-471f-a5a2-79b7eb0e6b77",
   "metadata": {},
   "outputs": [
    {
     "name": "stdout",
     "output_type": "stream",
     "text": [
      "\n",
      "Data quality checks:\n",
      "NaN values:\n",
      " order_id         0\n",
      "customer_id      0\n",
      "order_date       0\n",
      "product_id       0\n",
      "quantity         0\n",
      "product_name     0\n",
      "category         0\n",
      "price            0\n",
      "customer_name    0\n",
      "email            0\n",
      "dtype: int64\n",
      "Duplicate rows: 0\n",
      "   order_id  customer_id order_date  product_id  quantity product_name  \\\n",
      "0         1           20 2024-11-01           3         2       Tablet   \n",
      "1         2           36 2024-11-01           1         1       Laptop   \n",
      "2         3            1 2024-11-01           8         3   Headphones   \n",
      "3         4           36 2024-11-02           6         1   Smartwatch   \n",
      "4         5           14 2024-11-02          12         2         Desk   \n",
      "\n",
      "      category   price  customer_name              email  total_revenue  year  \\\n",
      "0  Electronics   450.0     Tina Young   tina@example.com          900.0  2024   \n",
      "1  Electronics  1200.0   James Walker  james@example.com         1200.0  2024   \n",
      "2  Electronics   150.0  Alice Johnson  alice@example.com          450.0  2024   \n",
      "3  Electronics   200.0   James Walker  james@example.com          200.0  2024   \n",
      "4    Furniture   300.0  Nina Mitchell   nina@example.com          600.0  2024   \n",
      "\n",
      "   month  day  \n",
      "0     11    1  \n",
      "1     11    1  \n",
      "2     11    1  \n",
      "3     11    2  \n",
      "4     11    2  \n"
     ]
    }
   ],
   "source": [
    "def main():\n",
    "    # load csv's into dataframes\n",
    "    orders = prepare_dataframes(\"Orders.csv\")\n",
    "    products =  prepare_dataframes(\"products.csv\")\n",
    "    customers =  prepare_dataframes(\"customers.csv\")\n",
    "\n",
    "    # merging orders and products df\n",
    "    sales = pd.merge(orders,  products, on=\"product_id\", how =  \"inner\")\n",
    "\n",
    "    # rename Cutomer_id column name to customer_id\n",
    "    sales.rename(columns = {\"Cutomer_id\":\"customer_id\"}, inplace=True)\n",
    "\n",
    "    # merging sales and customers df\n",
    "    sales_data = pd.merge(sales, customers, on=\"customer_id\", how=\"inner\")\n",
    "\n",
    "    # drop join_data column (not needed in our sales data)\n",
    "    sales_data.drop([\"join_date\"] ,axis=1, inplace=True)\n",
    "\n",
    "    # checks for missing value and dupicates\n",
    "    check_data_quality(sales_data)\n",
    "\n",
    "    # convert order_date object to date object\n",
    "    sales_data['order_date'] = pd.to_datetime(sales_data['order_date'])\n",
    "\n",
    "    #  total revenue for each order\n",
    "    sales_data[\"total_revenue\"] = sales_data[\"quantity\"] * sales_data[\"price\"]\n",
    "\n",
    "    # order date breakdown ( year, month, day)\n",
    "    convert_to_date_objects(sales_data, \"order_date\")\n",
    "    \n",
    "    print(sales_data.head())\n",
    "if __name__ == \"__main__\":\n",
    "    main()"
   ]
  },
  {
   "cell_type": "code",
   "execution_count": 27,
   "id": "b5fae328-c559-4a52-a57a-a33909e8be99",
   "metadata": {},
   "outputs": [],
   "source": [
    "# merging products and orders dataframe\n",
    "sales_data = pd.merge(orders,  products, on=\"product_id\", how =  \"inner\")"
   ]
  },
  {
   "cell_type": "code",
   "execution_count": 47,
   "id": "e8cb1cce-c728-4f82-a9b0-81ed937f1080",
   "metadata": {},
   "outputs": [
    {
     "name": "stdout",
     "output_type": "stream",
     "text": [
      "   order_id   Cutomer_id order_date  product_id  quantity product_name  \\\n",
      "0         1  Customer_id  11/1/2024           3         2       Tablet   \n",
      "1         2  Customer_id  11/1/2024           1         1       Laptop   \n",
      "2         3  Customer_id  11/1/2024           8         3   Headphones   \n",
      "3         4  Customer_id  11/2/2024           6         1   Smartwatch   \n",
      "4         5  Customer_id  11/2/2024          12         2         Desk   \n",
      "\n",
      "      category   price  \n",
      "0  Electronics   450.0  \n",
      "1  Electronics  1200.0  \n",
      "2  Electronics   150.0  \n",
      "3  Electronics   200.0  \n",
      "4    Furniture   300.0  \n"
     ]
    }
   ],
   "source": [
    "print(sales_data.head())"
   ]
  },
  {
   "cell_type": "code",
   "execution_count": 49,
   "id": "8dd98ee2-abfd-4371-8844-fd316666723a",
   "metadata": {},
   "outputs": [],
   "source": [
    "# renaming cutomer_id code to customers_id\n",
    "sales_data.rename(columns = {\"Cutomer_id\":\"Customer_id\"}, inplace=True)"
   ]
  },
  {
   "cell_type": "code",
   "execution_count": 51,
   "id": "e80a4a7f-1bf6-4ef4-81ce-5ea10e87c704",
   "metadata": {},
   "outputs": [
    {
     "name": "stdout",
     "output_type": "stream",
     "text": [
      "   order_id  Customer_id order_date  product_id  quantity product_name  \\\n",
      "0         1  Customer_id  11/1/2024           3         2       Tablet   \n",
      "1         2  Customer_id  11/1/2024           1         1       Laptop   \n",
      "2         3  Customer_id  11/1/2024           8         3   Headphones   \n",
      "3         4  Customer_id  11/2/2024           6         1   Smartwatch   \n",
      "4         5  Customer_id  11/2/2024          12         2         Desk   \n",
      "\n",
      "      category   price  \n",
      "0  Electronics   450.0  \n",
      "1  Electronics  1200.0  \n",
      "2  Electronics   150.0  \n",
      "3  Electronics   200.0  \n",
      "4    Furniture   300.0  \n"
     ]
    }
   ],
   "source": [
    "print(sales_data.head())"
   ]
  },
  {
   "cell_type": "code",
   "execution_count": null,
   "id": "4bcb0bdf-492f-475e-9d43-1c7448203bf4",
   "metadata": {},
   "outputs": [],
   "source": [
    "final_sales_data = pd.merge()"
   ]
  },
  {
   "cell_type": "code",
   "execution_count": 31,
   "id": "6229b0f7-cc85-4838-a6e2-8a8063fb9ea1",
   "metadata": {},
   "outputs": [
    {
     "data": {
      "text/plain": [
       "order_id        0\n",
       "Cutomer_id      0\n",
       "order_date      0\n",
       "product_id      0\n",
       "quantity        0\n",
       "product_name    0\n",
       "category        0\n",
       "price           0\n",
       "dtype: int64"
      ]
     },
     "execution_count": 31,
     "metadata": {},
     "output_type": "execute_result"
    }
   ],
   "source": [
    "# checks for missing value\n",
    "sales_data.isnull().sum()"
   ]
  },
  {
   "cell_type": "code",
   "execution_count": 33,
   "id": "e487af46-5c2e-4664-8d39-caa747d3480b",
   "metadata": {},
   "outputs": [
    {
     "data": {
      "text/plain": [
       "0"
      ]
     },
     "execution_count": 33,
     "metadata": {},
     "output_type": "execute_result"
    }
   ],
   "source": [
    "# checks for duplicated values\n",
    "sales_data.duplicated().sum()"
   ]
  },
  {
   "cell_type": "code",
   "execution_count": 35,
   "id": "ac94c890-7206-461b-a600-37839dce809e",
   "metadata": {},
   "outputs": [
    {
     "name": "stdout",
     "output_type": "stream",
     "text": [
      "object\n"
     ]
    }
   ],
   "source": [
    "print(sales_data['order_date'].dtype)"
   ]
  },
  {
   "cell_type": "code",
   "execution_count": 53,
   "id": "2408ecbb-ce2a-4c48-a835-669b108fd917",
   "metadata": {},
   "outputs": [],
   "source": [
    "# convert order_date object to date object\n",
    "sales_data['order_date'] = pd.to_datetime(sales_data['order_date'])"
   ]
  },
  {
   "cell_type": "code",
   "execution_count": 55,
   "id": "982ae66d-d7a8-4f8f-ae2f-d22eb3274fd4",
   "metadata": {},
   "outputs": [
    {
     "name": "stdout",
     "output_type": "stream",
     "text": [
      "datetime64[ns]\n"
     ]
    }
   ],
   "source": [
    "print(sales_data[\"order_date\"].dtype)"
   ]
  },
  {
   "cell_type": "code",
   "execution_count": 61,
   "id": "93d05882-8b65-49a4-942c-4814cf64911d",
   "metadata": {},
   "outputs": [],
   "source": [
    "#  total revenue for each order\n",
    "sales_data[\"total_revenue\"] = sales_data[\"quantity\"] * sales_data[\"price\"]"
   ]
  },
  {
   "cell_type": "code",
   "execution_count": 65,
   "id": "fb0179f3-164e-4879-b61c-677693ff7da2",
   "metadata": {},
   "outputs": [
    {
     "name": "stdout",
     "output_type": "stream",
     "text": [
      "   order_id  Customer_id order_date  product_id  quantity product_name  \\\n",
      "0         1  Customer_id 2024-11-01           3         2       Tablet   \n",
      "1         2  Customer_id 2024-11-01           1         1       Laptop   \n",
      "2         3  Customer_id 2024-11-01           8         3   Headphones   \n",
      "3         4  Customer_id 2024-11-02           6         1   Smartwatch   \n",
      "4         5  Customer_id 2024-11-02          12         2         Desk   \n",
      "\n",
      "      category   price  total_revenue  \n",
      "0  Electronics   450.0          900.0  \n",
      "1  Electronics  1200.0         1200.0  \n",
      "2  Electronics   150.0          450.0  \n",
      "3  Electronics   200.0          200.0  \n",
      "4    Furniture   300.0          600.0  \n"
     ]
    }
   ],
   "source": [
    "print(sales_data.head())"
   ]
  },
  {
   "cell_type": "code",
   "execution_count": 67,
   "id": "e47b8a52-5992-4a32-8859-8bd70fd2ca2f",
   "metadata": {},
   "outputs": [],
   "source": [
    "# order date breakdown ( year, month, day)\n",
    "sales_data['year'] = sales_data['order_date'].dt.year\n",
    "sales_data['month'] = sales_data['order_date'].dt.month\n",
    "sales_data['day'] = sales_data['order_date'].dt.day"
   ]
  },
  {
   "cell_type": "code",
   "execution_count": 69,
   "id": "59de0340-68c3-41f9-8115-17329ba5c167",
   "metadata": {},
   "outputs": [
    {
     "name": "stdout",
     "output_type": "stream",
     "text": [
      "   order_id  Customer_id order_date  product_id  quantity product_name  \\\n",
      "0         1  Customer_id 2024-11-01           3         2       Tablet   \n",
      "1         2  Customer_id 2024-11-01           1         1       Laptop   \n",
      "2         3  Customer_id 2024-11-01           8         3   Headphones   \n",
      "3         4  Customer_id 2024-11-02           6         1   Smartwatch   \n",
      "4         5  Customer_id 2024-11-02          12         2         Desk   \n",
      "\n",
      "      category   price  total_revenue  year  month  day  \n",
      "0  Electronics   450.0          900.0  2024     11    1  \n",
      "1  Electronics  1200.0         1200.0  2024     11    1  \n",
      "2  Electronics   150.0          450.0  2024     11    1  \n",
      "3  Electronics   200.0          200.0  2024     11    2  \n",
      "4    Furniture   300.0          600.0  2024     11    2  \n"
     ]
    }
   ],
   "source": [
    "print(sales_data.head())"
   ]
  },
  {
   "cell_type": "code",
   "execution_count": null,
   "id": "aa58d974-a431-4f25-9483-b51ca0978b0e",
   "metadata": {},
   "outputs": [],
   "source": []
  }
 ],
 "metadata": {
  "kernelspec": {
   "display_name": "Python 3 (ipykernel)",
   "language": "python",
   "name": "python3"
  },
  "language_info": {
   "codemirror_mode": {
    "name": "ipython",
    "version": 3
   },
   "file_extension": ".py",
   "mimetype": "text/x-python",
   "name": "python",
   "nbconvert_exporter": "python",
   "pygments_lexer": "ipython3",
   "version": "3.12.7"
  }
 },
 "nbformat": 4,
 "nbformat_minor": 5
}
